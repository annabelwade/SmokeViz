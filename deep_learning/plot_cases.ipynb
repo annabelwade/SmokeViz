{
 "cells": [
  {
   "cell_type": "markdown",
   "id": "fe7cda4e-0936-4ffd-9eb1-4193d3b8869f",
   "metadata": {},
   "source": [
    "Load the saved results of the best and worst cases + Plot the predictions next to the truth data for each case and by density"
   ]
  },
  {
   "cell_type": "code",
   "execution_count": 5,
   "id": "c15747ef-6c8a-433a-92bd-1b5998d9e908",
   "metadata": {
    "jupyter": {
     "source_hidden": true
    }
   },
   "outputs": [],
   "source": [
    "import matplotlib.pyplot as plt\n",
    "import torch\n",
    "import os\n",
    "import skimage.io\n",
    "import json\n",
    "from glob import glob\n",
    "import numpy as np"
   ]
  },
  {
   "cell_type": "code",
   "execution_count": 11,
   "id": "64fd0f22-7e46-444f-ada6-fd89e4ce8dab",
   "metadata": {},
   "outputs": [],
   "source": [
    "def get_mesh(num_pixels):\n",
    "    x = np.linspace(0,num_pixels-1,num_pixels)\n",
    "    y = np.linspace(0,num_pixels-1,num_pixels)\n",
    "    X, Y = np.meshgrid(x,y)\n",
    "    return X,Y\n",
    "\n",
    "def plot_cases(category, iou_type):\n",
    "    # iou type could be 'low','medium', 'high', 'overall'\n",
    "    # category could be 'best' or 'low'\n",
    "    save_dir = os.path.join(os.getcwd(), f'test_results/{category}/{iou_type}/')\n",
    "    case_dirs = [os.path.join(save_dir, case) for case in os.listdir(save_dir)]\n",
    "    \n",
    "    fig, ax = plt.subplots(10, 4, figsize=(20, 50))\n",
    "    ax = ax.ravel()\n",
    "    \n",
    "    colors = ['red', 'orange', 'yellow']\n",
    "    labels = ['high', 'medium', 'light']\n",
    "\n",
    "    for i, case_dir in enumerate(case_dirs):\n",
    "        # Load predictions and fn_info\n",
    "        preds = skimage.io.imread(os.path.join(case_dir, 'preds.tif'))\n",
    "        with open(os.path.join(case_dir, 'fn_info.json'), 'r') as f:\n",
    "            fn_info = json.load(f)\n",
    "        \n",
    "        iou_score = fn_info['iou_score']; truth_fp = fn_info['truth_fp']\n",
    "\n",
    "        # Derive the filename from truth_fp and load the matching RGB and truth data\n",
    "        fn = os.path.basename(truth_fp)\n",
    "        data_loc = '/scratch1/RDARCH/rda-ghpcs/Rey.Koki/SmokeViz/'\n",
    "        data_fn = glob(data_loc + \"data/*/*/\" + fn)[0]\n",
    "        truth_fn = glob(data_loc + \"truth/*/*/\" + fn)[0]\n",
    "        # print(fn, data_fn, truth_fn)\n",
    "        RGB = skimage.io.imread(data_fn, plugin='tifffile')\n",
    "        truths = skimage.io.imread(truth_fn, plugin='tifffile')\n",
    "\n",
    "        # Plot the RGB image on both panels (left for truth, right for prediction)\n",
    "        ax[2 * i].imshow(RGB)\n",
    "        ax[2 * i + 1].imshow(RGB)\n",
    "\n",
    "        num_pixels = RGB.shape[1]\n",
    "        X, Y = get_mesh(num_pixels)\n",
    "        for idx in reversed(range(3)):\n",
    "            ax[2 * i].contour(X, Y, truths[:, :, idx], levels=[.99], colors=[colors[idx]])\n",
    "\n",
    "        for idx in reversed(range(3)):\n",
    "            ax[2 * i + 1].contour(X, Y, preds[:, :, idx], levels=[.99], colors=[colors[idx]])\n",
    "\n",
    "        # ax[2 * i].set_title(f\"HMS\\nIoU {iou_type.capitalize()}: {iou_score}\", fontsize=10)\n",
    "        ax[2 * i + 1].set_title(f\"Model Prediction\\n {iou_type}_iou: {iou_score}\", fontsize=10)\n",
    "\n",
    "        # ax[2 * i].axis('off')\n",
    "        # ax[2 * i + 1].axis('off')\n",
    "\n",
    "    plt.tight_layout(pad=2)\n",
    "    plt.show()"
   ]
  },
  {
   "cell_type": "code",
   "execution_count": null,
   "id": "5616254d-5a6a-4b3b-9c5b-ab1101912840",
   "metadata": {},
   "outputs": [],
   "source": [
    "plot_cases('best', 'high')"
   ]
  },
  {
   "cell_type": "code",
   "execution_count": null,
   "id": "9715180d-21cf-481a-9d31-fb8fd0af4807",
   "metadata": {},
   "outputs": [],
   "source": [
    "plot_cases('worst', 'high')"
   ]
  }
 ],
 "metadata": {
  "kernelspec": {
   "display_name": "smoke",
   "language": "python",
   "name": "smoke"
  },
  "language_info": {
   "codemirror_mode": {
    "name": "ipython",
    "version": 3
   },
   "file_extension": ".py",
   "mimetype": "text/x-python",
   "name": "python",
   "nbconvert_exporter": "python",
   "pygments_lexer": "ipython3",
   "version": "3.11.9"
  },
  "widgets": {
   "application/vnd.jupyter.widget-state+json": {
    "state": {},
    "version_major": 2,
    "version_minor": 0
   }
  }
 },
 "nbformat": 4,
 "nbformat_minor": 5
}
